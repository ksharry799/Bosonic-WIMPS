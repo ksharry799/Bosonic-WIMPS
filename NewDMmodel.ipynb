{
 "cells": [
  {
   "cell_type": "code",
   "execution_count": null,
   "id": "edd152e2",
   "metadata": {},
   "outputs": [],
   "source": [
    "import numpy as np\n",
    "from scipy.stats import norm\n",
    "from abc import ABC, abstractmethod"
   ]
  },
  {
   "cell_type": "code",
   "execution_count": 1,
   "id": "45bb568e",
   "metadata": {},
   "outputs": [
    {
     "ename": "NameError",
     "evalue": "name 'ABC' is not defined",
     "output_type": "error",
     "traceback": [
      "\u001b[1;31m---------------------------------------------------------------------------\u001b[0m",
      "\u001b[1;31mNameError\u001b[0m                                 Traceback (most recent call last)",
      "Cell \u001b[1;32mIn[1], line 1\u001b[0m\n\u001b[1;32m----> 1\u001b[0m \u001b[38;5;28;01mclass\u001b[39;00m \u001b[38;5;21;01mDMModel\u001b[39;00m(\u001b[43mABC\u001b[49m):\n\u001b[0;32m      2\u001b[0m     \u001b[38;5;28;01mdef\u001b[39;00m \u001b[38;5;21m__init__\u001b[39m(\u001b[38;5;28mself\u001b[39m, flux_A, exposure_MT):\n\u001b[0;32m      3\u001b[0m         \u001b[38;5;28mself\u001b[39m\u001b[38;5;241m.\u001b[39mflux_A \u001b[38;5;241m=\u001b[39m flux_A  \u001b[38;5;66;03m# Dark matter flux constant\u001b[39;00m\n",
      "\u001b[1;31mNameError\u001b[0m: name 'ABC' is not defined"
     ]
    }
   ],
   "source": [
    "class DMModel(ABC):\n",
    "    def __init__(self, flux_A, exposure_MT):\n",
    "        self.flux_A = flux_A  # Dark matter flux constant\n",
    "        self.exposure_MT = exposure_MT # Exposure in mass x time"
   ]
  },
  {
   "cell_type": "code",
   "execution_count": null,
   "id": "5c1e137d",
   "metadata": {},
   "outputs": [],
   "source": [
    "@abstractmethod\n",
    "  def vmin(self, Target, mX, ER):\n",
    "  pass"
   ]
  },
  {
   "cell_type": "code",
   "execution_count": null,
   "id": "c7d81622",
   "metadata": {},
   "outputs": [],
   "source": [
    "@abstractmethod\n",
    "  def axio_elect_cross_section(self, mX, ER):\n",
    "        # to calculate the axio-electric cross-section\n",
    "        pass"
   ]
  },
  {
   "cell_type": "code",
   "execution_count": null,
   "id": "189a100d",
   "metadata": {},
   "outputs": [],
   "source": [
    "@abstractmethod\n",
    "  def peak_energy(self, mX):\n",
    "        # to calculate the peak energy\n",
    "        pass"
   ]
  },
  {
   "cell_type": "code",
   "execution_count": null,
   "id": "dfbce1f3",
   "metadata": {},
   "outputs": [],
   "source": [
    "def dRdER(self, Target, mX, ER, sig, VelDist):\n",
    "        # Calculate the axio-electric cross-section for a given recoil energy and DM mass\n",
    "        sigma_Ae = self.axio_elect_cross_section(mX, ER)"
   ]
  },
  {
   "cell_type": "code",
   "execution_count": null,
   "id": "c7d17d21",
   "metadata": {},
   "outputs": [],
   "source": [
    "# Retrieve the detection efficiency for a given energy from the detector object\n",
    "efficiency = Target.efficiency(ER)"
   ]
  },
  {
   "cell_type": "code",
   "execution_count": null,
   "id": "6afef17e",
   "metadata": {},
   "outputs": [],
   "source": [
    " # Get the energy resolution from the detector object\n",
    "energy_res = Target.energy_res(ER)"
   ]
  },
  {
   "cell_type": "code",
   "execution_count": null,
   "id": "e38eb5bd",
   "metadata": {},
   "outputs": [],
   "source": [
    " # Calculate the Gaussian distribution part of the signal\n",
    "gaussian = norm.pdf(ER, self.peak_energy(mX), energy_res)"
   ]
  },
  {
   "cell_type": "code",
   "execution_count": null,
   "id": "41b1d050",
   "metadata": {},
   "outputs": [],
   "source": [
    " # Combine all the elements to get the differential rate\n",
    "differential_rate = self.flux_A * sigma_Ae * self.exposure_MT * efficiency * gaussian\n",
    "return differential_rate"
   ]
  },
  {
   "cell_type": "code",
   "execution_count": null,
   "id": "671eaf27",
   "metadata": {},
   "outputs": [],
   "source": []
  }
 ],
 "metadata": {
  "kernelspec": {
   "display_name": "Python 3 (ipykernel)",
   "language": "python",
   "name": "python3"
  },
  "language_info": {
   "codemirror_mode": {
    "name": "ipython",
    "version": 3
   },
   "file_extension": ".py",
   "mimetype": "text/x-python",
   "name": "python",
   "nbconvert_exporter": "python",
   "pygments_lexer": "ipython3",
   "version": "3.11.0"
  }
 },
 "nbformat": 4,
 "nbformat_minor": 5
}
